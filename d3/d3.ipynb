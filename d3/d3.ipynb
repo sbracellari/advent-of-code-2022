{
 "cells": [
  {
   "cell_type": "code",
   "execution_count": 34,
   "metadata": {},
   "outputs": [],
   "source": [
    "import string\n",
    "\n",
    "with open('d3.txt', 'r') as f:\n",
    "    data = f.read()\n",
    "rucksacks = [d for d in data.split('\\n')]\n",
    "\n",
    "upper, lower = string.ascii_uppercase, string.ascii_lowercase"
   ]
  },
  {
   "cell_type": "code",
   "execution_count": 35,
   "metadata": {},
   "outputs": [],
   "source": [
    "total = 0\n",
    "for s in rucksacks:\n",
    "  a, b = s[:(len(s)//2)], s[(len(s)//2):]\n",
    "  common = ''.join(set(a).intersection(b))\n",
    "  total += upper.index(common) + 27 if common in upper else lower.index(common) + 1"
   ]
  },
  {
   "cell_type": "code",
   "execution_count": 36,
   "metadata": {},
   "outputs": [],
   "source": [
    "total, i = 0, 0\n",
    "for _ in range(len(rucksacks)//3):\n",
    "  common = ''.join(set(rucksacks[i]).intersection(rucksacks[i+1]).intersection(rucksacks[i+2]))\n",
    "  total += upper.index(common) + 27 if common in upper else lower.index(common) + 1\n",
    "  i += 3"
   ]
  }
 ],
 "metadata": {
  "kernelspec": {
   "display_name": "Python 3.9.15 64-bit",
   "language": "python",
   "name": "python3"
  },
  "language_info": {
   "codemirror_mode": {
    "name": "ipython",
    "version": 3
   },
   "file_extension": ".py",
   "mimetype": "text/x-python",
   "name": "python",
   "nbconvert_exporter": "python",
   "pygments_lexer": "ipython3",
   "version": "3.9.15"
  },
  "orig_nbformat": 4,
  "vscode": {
   "interpreter": {
    "hash": "a665b5d41d17b532ea9890333293a1b812fa0b73c9c25c950b3cedf1bebd0438"
   }
  }
 },
 "nbformat": 4,
 "nbformat_minor": 2
}
