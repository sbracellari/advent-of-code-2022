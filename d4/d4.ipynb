{
 "cells": [
  {
   "cell_type": "code",
   "execution_count": 49,
   "metadata": {},
   "outputs": [],
   "source": [
    "with open('d4.txt', 'r') as f:\n",
    "    data = f.read()\n",
    "ranges = [e.split(',') for e in [d for d in data.split('\\n')]]"
   ]
  },
  {
   "cell_type": "code",
   "execution_count": 50,
   "metadata": {},
   "outputs": [],
   "source": [
    "p1_count, p2_count = 0, 0\n",
    "for r in ranges:\n",
    "  low1, high1 = map(int, r[0].split('-'))\n",
    "  low2, high2 = map(int, r[1].split('-'))\n",
    "  a, b = list(range(low1, high1 + 1)), list(range(low2, high2 + 1))\n",
    "\n",
    "  if ((low1 <= low2 and high1 >= high2) or (low2 <= low1 and high2 >= high1)): p1_count +=1 \n",
    "  if len(set(a).intersection(b)) != 0: p2_count +=1"
   ]
  }
 ],
 "metadata": {
  "kernelspec": {
   "display_name": "Python 3.9.15 64-bit",
   "language": "python",
   "name": "python3"
  },
  "language_info": {
   "codemirror_mode": {
    "name": "ipython",
    "version": 3
   },
   "file_extension": ".py",
   "mimetype": "text/x-python",
   "name": "python",
   "nbconvert_exporter": "python",
   "pygments_lexer": "ipython3",
   "version": "3.9.15"
  },
  "orig_nbformat": 4,
  "vscode": {
   "interpreter": {
    "hash": "a665b5d41d17b532ea9890333293a1b812fa0b73c9c25c950b3cedf1bebd0438"
   }
  }
 },
 "nbformat": 4,
 "nbformat_minor": 2
}
