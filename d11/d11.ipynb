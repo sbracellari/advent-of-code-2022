{
 "cells": [
  {
   "cell_type": "code",
   "execution_count": 170,
   "metadata": {},
   "outputs": [
    {
     "name": "stdout",
     "output_type": "stream",
     "text": [
      "13954061248\n"
     ]
    }
   ],
   "source": [
    "from math import gcd\n",
    "\n",
    "with open('d11.txt', 'r') as f:\n",
    "    data = f.read()\n",
    "\n",
    "m = [d for d in data.split('\\n\\n')]\n",
    "monkeys, inspections = {}, [0]*8\n",
    "\n",
    "for i in range(len(m)):\n",
    "  _, items, operation, test, test_pass, test_fail = m[i].split('\\n')\n",
    "  monkeys[i] = { \n",
    "    'starting_items': [int(x) for x in items.split(': ')[1].split(', ')],\n",
    "    'operation': operation.split(': ')[1][10:].split(' '),\n",
    "    'test': int(test.split(' ')[5]),\n",
    "    'test_pass': int(test_pass[-1]),\n",
    "    'test_fail': int(test_fail[-1])\n",
    "  }\n",
    "\n",
    "# needed for part two. clever. \n",
    "def calc_lcm():\n",
    "  tests, lcm = [11, 19, 5, 2, 13, 7, 3, 17], 1 # all divisibility tests\n",
    "  for num in tests:\n",
    "    lcm = lcm*num//gcd(lcm, num)\n",
    "  return lcm\n",
    "lcm = calc_lcm()\n",
    "\n",
    "def calc_worry_lvl(item, operation):\n",
    "  num = int(operation[1]) if operation[1].isdigit() else item\n",
    "  item %= lcm\n",
    "  return (item*num if operation[0] == '*' else item+num)\n",
    "\n",
    "def run_round():\n",
    "  for i in range(len(monkeys)):\n",
    "    inspections[i] += len(monkeys[i].get('starting_items'))\n",
    "    items = monkeys[i].get('starting_items')\n",
    "    for _ in range(len(items)):\n",
    "      lvl = calc_worry_lvl(items[0], monkeys[i].get('operation'))\n",
    "      new_monkey = monkeys[i].get('test_pass') if lvl % monkeys[i].get('test') == 0 else monkeys[i].get('test_fail')\n",
    "      monkeys[new_monkey].get('starting_items').append(lvl)\n",
    "      monkeys[i].get('starting_items').pop(0)\n",
    "\n",
    "for i in range(10000):\n",
    "  run_round()\n",
    "\n",
    "inspections = sorted(inspections)\n",
    "print(inspections[-1]*inspections[-2])"
   ]
  }
 ],
 "metadata": {
  "kernelspec": {
   "display_name": "Python 3",
   "language": "python",
   "name": "python3"
  },
  "language_info": {
   "codemirror_mode": {
    "name": "ipython",
    "version": 3
   },
   "file_extension": ".py",
   "mimetype": "text/x-python",
   "name": "python",
   "nbconvert_exporter": "python",
   "pygments_lexer": "ipython3",
   "version": "3.9.15"
  },
  "orig_nbformat": 4,
  "vscode": {
   "interpreter": {
    "hash": "a665b5d41d17b532ea9890333293a1b812fa0b73c9c25c950b3cedf1bebd0438"
   }
  }
 },
 "nbformat": 4,
 "nbformat_minor": 2
}
