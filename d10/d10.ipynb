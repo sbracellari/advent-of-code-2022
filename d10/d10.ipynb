{
 "cells": [
  {
   "cell_type": "code",
   "execution_count": 120,
   "metadata": {},
   "outputs": [
    {
     "data": {
      "text/plain": [
       "['# # # . . # . . # . # # # . . . . # # . # # # . . # # # . . # . . . . . # # . . ',\n",
       " '# . . # . # . # . . # . . # . . . . # . # . . # . # . . # . # . . . . # . . # . ',\n",
       " '# . . # . # # . . . # . . # . . . . # . # # # . . # . . # . # . . . . # . . # . ',\n",
       " '# # # . . # . # . . # # # . . . . . # . # . . # . # # # . . # . . . . # # # # . ',\n",
       " '# . # . . # . # . . # . . . . # . . # . # . . # . # . . . . # . . . . # . . # . ',\n",
       " '# . . # . # . . # . # . . . . . # # . . # # # . . # . . . . # # # # . # . . # . ']"
      ]
     },
     "execution_count": 120,
     "metadata": {},
     "output_type": "execute_result"
    }
   ],
   "source": [
    "with open('d10.txt', 'r') as f:\n",
    "    data = f.read()\n",
    "\n",
    "signals = [d for d in data.split('\\n')]\n",
    "c, X, tot, crt = 1, 1, 0, ''\n",
    "\n",
    "def do_stuff(crt, total, cycle):\n",
    "  crt += '# ' if (c-1)%40 in [X-1, X, X+1] else '. '\n",
    "  total += cycle*X if (cycle-20)%40 == 0 else 0\n",
    "  cycle += 1\n",
    "  return crt, total, cycle\n",
    "  \n",
    "for i in range(len(signals)):\n",
    "  crt, tot, c = do_stuff(crt, tot, c)\n",
    "\n",
    "  if 'addx' in signals[i]:\n",
    "    crt, tot, c = do_stuff(crt, tot, c)\n",
    "    X += int(signals[i].split(' ')[1])\n",
    "\n",
    "list(map(''.join, zip(*[iter(crt)]*80))) # pretty printing, kinda"
   ]
  }
 ],
 "metadata": {
  "kernelspec": {
   "display_name": "Python 3",
   "language": "python",
   "name": "python3"
  },
  "language_info": {
   "codemirror_mode": {
    "name": "ipython",
    "version": 3
   },
   "file_extension": ".py",
   "mimetype": "text/x-python",
   "name": "python",
   "nbconvert_exporter": "python",
   "pygments_lexer": "ipython3",
   "version": "3.9.15"
  },
  "orig_nbformat": 4,
  "vscode": {
   "interpreter": {
    "hash": "a665b5d41d17b532ea9890333293a1b812fa0b73c9c25c950b3cedf1bebd0438"
   }
  }
 },
 "nbformat": 4,
 "nbformat_minor": 2
}
