{
 "cells": [
  {
   "cell_type": "code",
   "execution_count": 53,
   "metadata": {},
   "outputs": [],
   "source": [
    "with open('d2.txt', 'r') as f:\n",
    "    data = f.read()\n",
    "rounds = [d for d in data.split('\\n')]\n",
    "\n",
    "moves = {\n",
    "  'A': {'value': 1, 'beats': 'C', 'loses_to': 'B'},\n",
    "  'B': {'value': 2, 'beats': 'A', 'loses_to': 'C'},\n",
    "  'C': {'value': 3, 'beats': 'B', 'loses_to': 'A'},\n",
    "  'X': {'value': 1, 'beats': 'C', 'loses_to': 'B'},\n",
    "  'Y': {'value': 2, 'beats': 'A', 'loses_to': 'C'},\n",
    "  'Z': {'value': 3, 'beats': 'B', 'loses_to': 'A'}\n",
    "}"
   ]
  },
  {
   "cell_type": "code",
   "execution_count": 55,
   "metadata": {},
   "outputs": [
    {
     "name": "stdout",
     "output_type": "stream",
     "text": [
      "13924\n"
     ]
    }
   ],
   "source": [
    "total_score = 0\n",
    "for round in rounds:\n",
    "  opponent, me = round.split(' ')\n",
    "  \n",
    "  if(moves.get(opponent).get('value') == moves.get(me).get('value')): # draw\n",
    "    total_score +=3 \n",
    "  elif(moves.get(me).get('beats') == opponent): # win\n",
    "    total_score +=6\n",
    "    \n",
    "  total_score += moves.get(me).get('value')\n"
   ]
  },
  {
   "cell_type": "code",
   "execution_count": 56,
   "metadata": {},
   "outputs": [
    {
     "name": "stdout",
     "output_type": "stream",
     "text": [
      "13448\n"
     ]
    }
   ],
   "source": [
    "total_score = 0\n",
    "for round in rounds:\n",
    "  opponent, move = round.split(' ')\n",
    "\n",
    "  if (move == 'Y'): # need a draw\n",
    "    total_score += 3\n",
    "    total_score += moves.get(opponent).get('value')\n",
    "  elif (move == 'Z'): # need a win\n",
    "    total_score += 6\n",
    "    total_score += moves.get(moves.get(opponent).get('loses_to')).get('value')\n",
    "  elif (move == 'X'): # need a loss\n",
    "    total_score += moves.get(moves.get(opponent).get('beats')).get('value')"
   ]
  }
 ],
 "metadata": {
  "kernelspec": {
   "display_name": "Python 3.9.6 64-bit",
   "language": "python",
   "name": "python3"
  },
  "language_info": {
   "codemirror_mode": {
    "name": "ipython",
    "version": 3
   },
   "file_extension": ".py",
   "mimetype": "text/x-python",
   "name": "python",
   "nbconvert_exporter": "python",
   "pygments_lexer": "ipython3",
   "version": "3.9.6"
  },
  "orig_nbformat": 4,
  "vscode": {
   "interpreter": {
    "hash": "31f2aee4e71d21fbe5cf8b01ff0e069b9275f58929596ceb00d14d90e3e16cd6"
   }
  }
 },
 "nbformat": 4,
 "nbformat_minor": 2
}
