{
 "cells": [
  {
   "cell_type": "code",
   "execution_count": null,
   "metadata": {},
   "outputs": [],
   "source": [
    "with open('d1.txt', 'r') as f:\n",
    "    data = f.read()\n",
    "\n",
    "cals = [x.split('\\n') for x in [i for i in data.split('\\n\\n')]]\n",
    "total_cals = sorted([sum(map(int, l)) for l in cals])\n",
    "print(sum(total_cals[-3:]))"
   ]
  }
 ],
 "metadata": {
  "language_info": {
   "name": "python"
  },
  "orig_nbformat": 4
 },
 "nbformat": 4,
 "nbformat_minor": 2
}
