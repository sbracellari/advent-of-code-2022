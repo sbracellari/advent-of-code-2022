{
 "cells": [
  {
   "cell_type": "code",
   "execution_count": 42,
   "metadata": {},
   "outputs": [
    {
     "name": "stdout",
     "output_type": "stream",
     "text": [
      "1854 visible trees\n",
      "best scenic score: 527340\n"
     ]
    }
   ],
   "source": [
    "with open('d8.txt', 'r') as f:\n",
    "    data = f.read()\n",
    "\n",
    "def find_score(lst, tree):\n",
    "  score = 0\n",
    "  for l in lst:\n",
    "    if l <= tree: score += 1\n",
    "    if l == tree: break\n",
    "  \n",
    "  return score\n",
    "\n",
    "grid = [[int(x) for x in row] for row in data.split('\\n')]\n",
    "visible_trees = 2*len(grid) + 2*(len(grid[0])-2)\n",
    "\n",
    "scores = []\n",
    "for i in range(1, len(grid)-1):\n",
    "  for j in range(1, len(grid[i])-1):\n",
    "    tree = int(grid[i][j])\n",
    "    col = [g[j] for g in grid]\n",
    "\n",
    "    left, right = grid[i][0:j], grid[i][j+1:len(grid[i])]\n",
    "    top, bottom = col[0:i], col[i+1:len(col)]\n",
    "\n",
    "    left_score, right_score = find_score(reversed(left), tree), find_score(right, tree)\n",
    "    top_score, bottom_score = find_score(reversed(top), tree), find_score(bottom, tree)\n",
    "    scores.append(left_score*right_score*top_score*bottom_score)\n",
    "\n",
    "    if max(left) < tree or max(right) < tree or max(top) < tree or max(bottom) < tree: \n",
    "        visible_trees += 1\n",
    "\n",
    "print(visible_trees, 'visible trees')\n",
    "print('best scenic score:', max(scores))\n"
   ]
  }
 ],
 "metadata": {
  "kernelspec": {
   "display_name": "Python 3.9.15 64-bit",
   "language": "python",
   "name": "python3"
  },
  "language_info": {
   "codemirror_mode": {
    "name": "ipython",
    "version": 3
   },
   "file_extension": ".py",
   "mimetype": "text/x-python",
   "name": "python",
   "nbconvert_exporter": "python",
   "pygments_lexer": "ipython3",
   "version": "3.9.15"
  },
  "orig_nbformat": 4,
  "vscode": {
   "interpreter": {
    "hash": "a665b5d41d17b532ea9890333293a1b812fa0b73c9c25c950b3cedf1bebd0438"
   }
  }
 },
 "nbformat": 4,
 "nbformat_minor": 2
}
