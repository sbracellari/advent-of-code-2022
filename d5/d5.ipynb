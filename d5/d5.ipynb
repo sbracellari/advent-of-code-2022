{
 "cells": [
  {
   "cell_type": "code",
   "execution_count": 151,
   "metadata": {},
   "outputs": [],
   "source": [
    "import copy\n",
    "\n",
    "with open('d5.txt', 'r') as f:\n",
    "    data = f.read()\n",
    "\n",
    "_, moves = data.split('\\n\\n')\n",
    "moves = [[int(m) for m in move.split(' ') if m.isdigit()] for move in moves.split('\\n')]\n",
    "\n",
    "# idk if hardcoding this is sus but the pre-processing was too gross. so here we are\n",
    "p1_state = {\n",
    "  1: ['N', 'S', 'D', 'C', 'V', 'Q', 'T'],\n",
    "  2: ['M', 'F', 'V'],\n",
    "  3: ['F', 'Q', 'W', 'D', 'P', 'N', 'H', 'M'],\n",
    "  4: ['D', 'Q', 'R', 'T', 'F'],\n",
    "  5: ['R', 'F', 'M', 'N', 'Q', 'H', 'V', 'B'],\n",
    "  6: ['C', 'F', 'G', 'N', 'P', 'W', 'Q'],\n",
    "  7: ['W', 'F', 'R', 'L', 'C', 'T'],\n",
    "  8: ['T', 'Z', 'N', 'S'],\n",
    "  9: ['M', 'S', 'D', 'J', 'R', 'Q', 'H', 'N']\n",
    "}\n",
    "\n",
    "p2_state = copy.deepcopy(p1_state)\n",
    " "
   ]
  },
  {
   "cell_type": "code",
   "execution_count": 152,
   "metadata": {},
   "outputs": [],
   "source": [
    "for move in moves:\n",
    "  a1, b1 = p1_state.get(move[1]), p1_state.get(move[2])\n",
    "  [b1.append(a1.pop()) for _ in range(move[0])]\n",
    "\n",
    "  a2, b2 = p2_state.get(move[1]), p2_state.get(move[2])\n",
    "  [b2.append(a2.pop(len(a2)-x-1)) for x in range(move[0]-1, -1, -1)]\n",
    "\n",
    "ans1 = ''.join([v[-1] for v in p1_state.values()])\n",
    "ans2 = ''.join([v[-1] for v in p2_state.values()])"
   ]
  }
 ],
 "metadata": {
  "kernelspec": {
   "display_name": "Python 3.9.15 64-bit",
   "language": "python",
   "name": "python3"
  },
  "language_info": {
   "codemirror_mode": {
    "name": "ipython",
    "version": 3
   },
   "file_extension": ".py",
   "mimetype": "text/x-python",
   "name": "python",
   "nbconvert_exporter": "python",
   "pygments_lexer": "ipython3",
   "version": "3.9.15"
  },
  "orig_nbformat": 4,
  "vscode": {
   "interpreter": {
    "hash": "a665b5d41d17b532ea9890333293a1b812fa0b73c9c25c950b3cedf1bebd0438"
   }
  }
 },
 "nbformat": 4,
 "nbformat_minor": 2
}
